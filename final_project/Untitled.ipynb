{
 "cells": [
  {
   "cell_type": "code",
   "execution_count": null,
   "metadata": {
    "collapsed": true
   },
   "outputs": [],
   "source": [
    "class Solution {\n",
    "public:\n",
    "    int lengthOfLIS(vector<int>& nums) {\n",
    "        if (nums.empty()) return 0;\n",
    "        vector<int> ends{nums[0]};\n",
    "        for(auto a:nums) {\n",
    "            if (a < ends[0]) ends[0] = a;\n",
    "            else if ( a > ends.back()) ends.push_back(a);\n",
    "            else {\n",
    "                int left = 0, right = ends.size();\n",
    "                while(left < right) {\n",
    "                    int mid = (left + right) / 2;\n",
    "                    if (ends[mid] < a) left = mid + 1;\n",
    "                    else right = mid;\n",
    "                }\n",
    "                ends[right] = a;\n",
    "            }\n",
    "        }\n",
    "        return ends.size();\n",
    "    }\n",
    "};"
   ]
  },
  {
   "cell_type": "code",
   "execution_count": 5,
   "metadata": {
    "collapsed": false
   },
   "outputs": [
    {
     "data": {
      "text/plain": [
       "4"
      ]
     },
     "execution_count": 5,
     "metadata": {},
     "output_type": "execute_result"
    }
   ],
   "source": [
    "A = [12,3,2,4]\n",
    "A[len(A)-1]"
   ]
  },
  {
   "cell_type": "code",
   "execution_count": 52,
   "metadata": {
    "collapsed": true
   },
   "outputs": [],
   "source": [
    "def lengthLIS(nums):\n",
    "    result = [nums[0]]\n",
    "    for num in nums:\n",
    "        if num < result[0]:\n",
    "            result[0] = num\n",
    "        elif num > result[len(result) - 1]:\n",
    "            result.append(num)\n",
    "        else:\n",
    "            left = 0\n",
    "            right = len(result)\n",
    "            while(left < right):\n",
    "                mid = (left+right) / 2\n",
    "                if result[mid] >= num:\n",
    "                    right = mid\n",
    "                else:\n",
    "                    left = mid + 1\n",
    "                \n",
    "            result[left] = num\n",
    "            \n",
    "    return len(result)\n",
    "            \n",
    "        "
   ]
  },
  {
   "cell_type": "code",
   "execution_count": 53,
   "metadata": {
    "collapsed": true
   },
   "outputs": [],
   "source": [
    "nums = [3,5,6,2,5,4,19,5,6,7,12]"
   ]
  },
  {
   "cell_type": "code",
   "execution_count": 54,
   "metadata": {
    "collapsed": false
   },
   "outputs": [
    {
     "data": {
      "text/plain": [
       "6"
      ]
     },
     "execution_count": 54,
     "metadata": {},
     "output_type": "execute_result"
    }
   ],
   "source": [
    "lengthLIS(nums)"
   ]
  },
  {
   "cell_type": "code",
   "execution_count": 42,
   "metadata": {
    "collapsed": true
   },
   "outputs": [],
   "source": [
    "def binary_search(nums, target):\n",
    "    left = 0\n",
    "    right = len(nums)\n",
    "    while (left < right):\n",
    "        mid = (left + right) / 2\n",
    "        if nums[mid]  < target:\n",
    "            left = mid + 1\n",
    "        else:\n",
    "            right = mid\n",
    "        nums[right] = target\n",
    "    return nums"
   ]
  },
  {
   "cell_type": "code",
   "execution_count": 43,
   "metadata": {
    "collapsed": false
   },
   "outputs": [
    {
     "data": {
      "text/plain": [
       "[2, 3, 4, 5, 6, 7]"
      ]
     },
     "execution_count": 43,
     "metadata": {},
     "output_type": "execute_result"
    }
   ],
   "source": [
    "binary_search(nums, 5)"
   ]
  },
  {
   "cell_type": "code",
   "execution_count": 44,
   "metadata": {
    "collapsed": true
   },
   "outputs": [],
   "source": [
    "nums = [2,3,4,5,6,7]"
   ]
  },
  {
   "cell_type": "code",
   "execution_count": 45,
   "metadata": {
    "collapsed": false
   },
   "outputs": [
    {
     "ename": "IndexError",
     "evalue": "list assignment index out of range",
     "output_type": "error",
     "traceback": [
      "\u001b[0;31m---------------------------------------------------------------------------\u001b[0m",
      "\u001b[0;31mIndexError\u001b[0m                                Traceback (most recent call last)",
      "\u001b[0;32m<ipython-input-45-ae88a5872a2c>\u001b[0m in \u001b[0;36m<module>\u001b[0;34m()\u001b[0m\n\u001b[0;32m----> 1\u001b[0;31m \u001b[0mbinary_search\u001b[0m\u001b[0;34m(\u001b[0m\u001b[0mnums\u001b[0m\u001b[0;34m,\u001b[0m \u001b[0;36m8\u001b[0m\u001b[0;34m)\u001b[0m\u001b[0;34m\u001b[0m\u001b[0m\n\u001b[0m",
      "\u001b[0;32m<ipython-input-42-b12c919cc803>\u001b[0m in \u001b[0;36mbinary_search\u001b[0;34m(nums, target)\u001b[0m\n\u001b[1;32m      8\u001b[0m         \u001b[0;32melse\u001b[0m\u001b[0;34m:\u001b[0m\u001b[0;34m\u001b[0m\u001b[0m\n\u001b[1;32m      9\u001b[0m             \u001b[0mright\u001b[0m \u001b[0;34m=\u001b[0m \u001b[0mmid\u001b[0m\u001b[0;34m\u001b[0m\u001b[0m\n\u001b[0;32m---> 10\u001b[0;31m         \u001b[0mnums\u001b[0m\u001b[0;34m[\u001b[0m\u001b[0mright\u001b[0m\u001b[0;34m]\u001b[0m \u001b[0;34m=\u001b[0m \u001b[0mtarget\u001b[0m\u001b[0;34m\u001b[0m\u001b[0m\n\u001b[0m\u001b[1;32m     11\u001b[0m     \u001b[0;32mreturn\u001b[0m \u001b[0mnums\u001b[0m\u001b[0;34m\u001b[0m\u001b[0m\n",
      "\u001b[0;31mIndexError\u001b[0m: list assignment index out of range"
     ]
    }
   ],
   "source": [
    "binary_search(nums, 8)"
   ]
  },
  {
   "cell_type": "code",
   "execution_count": 57,
   "metadata": {
    "collapsed": true
   },
   "outputs": [],
   "source": [
    "A = [1 for i in range(0, 2)]"
   ]
  },
  {
   "cell_type": "code",
   "execution_count": 58,
   "metadata": {
    "collapsed": false
   },
   "outputs": [
    {
     "data": {
      "text/plain": [
       "[1, 1]"
      ]
     },
     "execution_count": 58,
     "metadata": {},
     "output_type": "execute_result"
    }
   ],
   "source": [
    "A"
   ]
  },
  {
   "cell_type": "code",
   "execution_count": 62,
   "metadata": {
    "collapsed": true
   },
   "outputs": [],
   "source": [
    "    def minSubArrayLen(s, nums):\n",
    "        \"\"\"\n",
    "        :type s: int\n",
    "        :type nums: List[int]\n",
    "        :rtype: int\n",
    "        \"\"\"\n",
    "        size = len(nums)\n",
    "        if size == 0:\n",
    "            return 0\n",
    "        best = size + 1\n",
    "        start = 0\n",
    "        end = 0\n",
    "        total = 0\n",
    "        while end < size :\n",
    "            while end < size and total < s:\n",
    "                total += nums[end]\n",
    "                end += 1\n",
    "            \n",
    "            while start < end and total >= s:\n",
    "                best = min(best, end - start)\n",
    "                total -= nums[start]\n",
    "                start += 1\n",
    "            \n",
    "        if best == size + 1 :\n",
    "            return 0\n",
    "        else:\n",
    "            return best"
   ]
  },
  {
   "cell_type": "code",
   "execution_count": 63,
   "metadata": {
    "collapsed": false
   },
   "outputs": [
    {
     "data": {
      "text/plain": [
       "2"
      ]
     },
     "execution_count": 63,
     "metadata": {},
     "output_type": "execute_result"
    }
   ],
   "source": [
    "minSubArrayLen(7, [2,3,1,2,4,3])"
   ]
  },
  {
   "cell_type": "code",
   "execution_count": 84,
   "metadata": {
    "collapsed": true
   },
   "outputs": [],
   "source": [
    "    def wordBreak(s, wordDict):\n",
    "        \"\"\"\n",
    "        :type s: str\n",
    "        :type wordDict: Set[str]\n",
    "        :rtype: bool\n",
    "        \"\"\"\n",
    "        size = len(s)\n",
    "        f = [False for j in range(0, size + 1)]\n",
    "        f[0] = True\n",
    "        for i in range(1, size+1):\n",
    "            for j in range(i-1, -1, -1):\n",
    "                if f[j] and s[j:i] in wordDict:\n",
    "                    f[i] = True\n",
    "                    break\n",
    "                \n",
    "        return f[size]"
   ]
  },
  {
   "cell_type": "code",
   "execution_count": 85,
   "metadata": {
    "collapsed": true
   },
   "outputs": [],
   "source": [
    "s = \"leetcode\""
   ]
  },
  {
   "cell_type": "code",
   "execution_count": 86,
   "metadata": {
    "collapsed": false
   },
   "outputs": [],
   "source": [
    "wordDict = [\"leet\", \"code\"]"
   ]
  },
  {
   "cell_type": "code",
   "execution_count": 87,
   "metadata": {
    "collapsed": false
   },
   "outputs": [
    {
     "data": {
      "text/plain": [
       "True"
      ]
     },
     "execution_count": 87,
     "metadata": {},
     "output_type": "execute_result"
    }
   ],
   "source": [
    "wordBreak(s, wordDict)"
   ]
  },
  {
   "cell_type": "code",
   "execution_count": null,
   "metadata": {
    "collapsed": true
   },
   "outputs": [],
   "source": []
  }
 ],
 "metadata": {
  "kernelspec": {
   "display_name": "Python 2",
   "language": "python",
   "name": "python2"
  },
  "language_info": {
   "codemirror_mode": {
    "name": "ipython",
    "version": 2
   },
   "file_extension": ".py",
   "mimetype": "text/x-python",
   "name": "python",
   "nbconvert_exporter": "python",
   "pygments_lexer": "ipython2",
   "version": "2.7.11"
  }
 },
 "nbformat": 4,
 "nbformat_minor": 0
}
